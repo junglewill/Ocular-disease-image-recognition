{
 "cells": [
  {
   "cell_type": "markdown",
   "metadata": {},
   "source": [
    "<h3> Adapting the 'merge' model to Gray Scale"
   ]
  },
  {
   "cell_type": "code",
   "execution_count": 1,
   "metadata": {},
   "outputs": [
    {
     "ename": "NameError",
     "evalue": "name 'x_train' is not defined",
     "output_type": "error",
     "traceback": [
      "\u001b[0;31m---------------------------------------------------------------------------\u001b[0m",
      "\u001b[0;31mNameError\u001b[0m                                 Traceback (most recent call last)",
      "\u001b[0;32m<ipython-input-1-5af668ac0b01>\u001b[0m in \u001b[0;36m<module>\u001b[0;34m\u001b[0m\n\u001b[1;32m      1\u001b[0m \u001b[0;31m# Right Train\u001b[0m\u001b[0;34m\u001b[0m\u001b[0;34m\u001b[0m\u001b[0;34m\u001b[0m\u001b[0m\n\u001b[1;32m      2\u001b[0m \u001b[0mrightimg_train_gray\u001b[0m \u001b[0;34m=\u001b[0m \u001b[0;34m[\u001b[0m\u001b[0;34m]\u001b[0m\u001b[0;34m\u001b[0m\u001b[0;34m\u001b[0m\u001b[0m\n\u001b[0;32m----> 3\u001b[0;31m \u001b[0;32mfor\u001b[0m \u001b[0mi\u001b[0m \u001b[0;32min\u001b[0m \u001b[0mrange\u001b[0m\u001b[0;34m(\u001b[0m\u001b[0mx_train\u001b[0m\u001b[0;34m.\u001b[0m\u001b[0mshape\u001b[0m\u001b[0;34m[\u001b[0m\u001b[0;36m0\u001b[0m\u001b[0;34m]\u001b[0m\u001b[0;34m)\u001b[0m\u001b[0;34m:\u001b[0m\u001b[0;34m\u001b[0m\u001b[0;34m\u001b[0m\u001b[0m\n\u001b[0m\u001b[1;32m      4\u001b[0m     \u001b[0mimg\u001b[0m \u001b[0;34m=\u001b[0m \u001b[0mimage\u001b[0m\u001b[0;34m.\u001b[0m\u001b[0mload_img\u001b[0m\u001b[0;34m(\u001b[0m\u001b[0;34m'Training Images/'\u001b[0m\u001b[0;34m+\u001b[0m\u001b[0mx_train\u001b[0m\u001b[0;34m[\u001b[0m\u001b[0;34m'num'\u001b[0m\u001b[0;34m]\u001b[0m\u001b[0;34m.\u001b[0m\u001b[0miloc\u001b[0m\u001b[0;34m[\u001b[0m\u001b[0mi\u001b[0m\u001b[0;34m]\u001b[0m\u001b[0;34m+\u001b[0m\u001b[0;34m'_right.jpg'\u001b[0m\u001b[0;34m,\u001b[0m\u001b[0mcolor_mode\u001b[0m\u001b[0;34m=\u001b[0m\u001b[0;34m\"grayscale\"\u001b[0m\u001b[0;34m,\u001b[0m\u001b[0mtarget_size\u001b[0m\u001b[0;34m=\u001b[0m\u001b[0;34m(\u001b[0m\u001b[0;36m90\u001b[0m\u001b[0;34m,\u001b[0m\u001b[0;36m120\u001b[0m\u001b[0;34m)\u001b[0m\u001b[0;34m)\u001b[0m\u001b[0;34m\u001b[0m\u001b[0;34m\u001b[0m\u001b[0m\n\u001b[1;32m      5\u001b[0m     \u001b[0mimg\u001b[0m \u001b[0;34m=\u001b[0m \u001b[0mimage\u001b[0m\u001b[0;34m.\u001b[0m\u001b[0mimg_to_array\u001b[0m\u001b[0;34m(\u001b[0m\u001b[0mimg\u001b[0m\u001b[0;34m)\u001b[0m\u001b[0;34m\u001b[0m\u001b[0;34m\u001b[0m\u001b[0m\n",
      "\u001b[0;31mNameError\u001b[0m: name 'x_train' is not defined"
     ]
    }
   ],
   "source": [
    "# Right Train\n",
    "rightimg_train_gray = []\n",
    "for i in range(x_train.shape[0]):\n",
    "    img = image.load_img('Training Images/'+x_train['num'].iloc[i]+'_right.jpg',color_mode=\"grayscale\",target_size=(90,120))\n",
    "    img = image.img_to_array(img)\n",
    "    img = img/255\n",
    "    rightimg_train_gray.append(img)\n",
    "x_train_r_g = np.array(rightimg_train_gray)\n",
    "\n",
    "#Left Train\n",
    "leftimg_train_gray = []\n",
    "for i in range(x_train.shape[0]):\n",
    "    img = image.load_img('Training Images/'+x_train['num'].iloc[i]+'_left.jpg',color_mode=\"grayscale\",target_size=(90,120))\n",
    "    img = image.img_to_array(img)\n",
    "    img = img/255\n",
    "    leftimg_train_gray.append(img)\n",
    "x_train_l_g = np.array(leftimg_train_gray)\n",
    "\n",
    "# Right Test\n",
    "rightimg_test_gray = []\n",
    "for i in range(x_test.shape[0]):\n",
    "    img = image.load_img('Training Images/'+x_test['num'].iloc[i]+'_right.jpg',color_mode=\"grayscale\",target_size=(90,120))\n",
    "    img = image.img_to_array(img)\n",
    "    img = img/255\n",
    "    rightimg_test_gray.append(img)\n",
    "x_test_r_g = np.array(rightimg_test_gray)\n",
    "\n",
    "# Left Test\n",
    "leftimg_test_gray = []\n",
    "for i in range(x_test.shape[0]):\n",
    "    img = image.load_img('Training Images/'+x_test['num'].iloc[i]+'_left.jpg',color_mode=\"grayscale\",target_size=(90,120))\n",
    "    img = image.img_to_array(img)\n",
    "    img = img/255\n",
    "    leftimg_test_gray.append(img)\n",
    "x_test_l_g = np.array(leftimg_test_gray)\n",
    "\n",
    "print('Dimensions:')\n",
    "print(f'Right Train:{x_train_r_g.shape}')\n",
    "print(f'Left Train:{x_train_l_g.shape}')\n",
    "print(f'Right Test:{x_test_r_g.shape}')\n",
    "print(f'Right Test:{x_test_l_g.shape}')"
   ]
  },
  {
   "cell_type": "markdown",
   "metadata": {},
   "source": [
    "## Model 2"
   ]
  },
  {
   "cell_type": "code",
   "execution_count": null,
   "metadata": {},
   "outputs": [],
   "source": [
    "left_g = Input(shape=(90,120,1))\n",
    "conv1 = Conv2D(32, kernel_size=3, activation='relu')(left_g)\n",
    "pool1 = MaxPooling2D(pool_size=(2, 2))(conv1)\n",
    "conv1_2 = Conv2D(16, kernel_size=3, activation='relu')(pool1)\n",
    "pool1_2 = MaxPooling2D(pool_size=(2, 2))(conv1_2)\n",
    "flat1 = Flatten()(pool1_2)\n",
    "\n",
    "right_g = Input(shape=(90,120,1))\n",
    "conv2 = Conv2D(32, kernel_size=3, activation='relu')(right_g)\n",
    "pool2 = MaxPooling2D(pool_size=(2, 2))(conv2)\n",
    "conv2_2 = Conv2D(16, kernel_size=3, activation='relu')(pool2)\n",
    "pool2_2 = MaxPooling2D(pool_size=(2, 2))(conv2_2)\n",
    "flat2 = Flatten()(pool2_2)\n",
    "merge = concatenate([flat1, flat2])"
   ]
  },
  {
   "cell_type": "code",
   "execution_count": null,
   "metadata": {},
   "outputs": [],
   "source": [
    "layer1 = Dense(64, activation='relu')(merge)\n",
    "layer2 = Dense(64, activation='sigmoid')(layer1)\n",
    "output = Dense(8, activation='sigmoid')(layer2)\n",
    "model_gray = Model(inputs=[left_g, right_g], outputs=output)\n",
    "model_gray.compile(optimizer='sgd', loss='categorical_crossentropy', metrics=['accuracy'])"
   ]
  },
  {
   "cell_type": "code",
   "execution_count": null,
   "metadata": {},
   "outputs": [],
   "source": [
    "history_gray = model_gray.fit(x=[x_train_r_g, x_train_l_g], y=y_train,\n",
    "                      batch_size=20, epochs=30,validation_split=.1)\n",
    "model_gray.evaluate([x_test_l_g, x_test_r_g], y_test)"
   ]
  },
  {
   "cell_type": "code",
   "execution_count": null,
   "metadata": {},
   "outputs": [],
   "source": [
    "score = model_gray.evaluate([x_test_l_g, x_test_r_g], y_test, verbose =0)\n",
    "print('Test loss:', score[0])\n",
    "print('Test accuracy:', score[1])"
   ]
  },
  {
   "cell_type": "markdown",
   "metadata": {},
   "source": [
    "<h3> Visualize Feature Maps"
   ]
  },
  {
   "cell_type": "code",
   "execution_count": null,
   "metadata": {},
   "outputs": [],
   "source": [
    "# Use the model created\n",
    "inp = model_c.inputs\n",
    "print(inp)\n",
    "\n",
    "# Use the layer where you want to see the convoluted\n",
    "out1 = model_c.layers[7].output\n",
    "print(out1)\n",
    "\n",
    "feature_map_2= Model(inputs=inp, outputs = out1)\n",
    "\n",
    "feature_map_2.summary()"
   ]
  },
  {
   "cell_type": "code",
   "execution_count": null,
   "metadata": {},
   "outputs": [],
   "source": [
    "# Process one image to see an example\n",
    "img=cv2.imread(\"Training Images/0_right.jpg\")                   # Reading an Image\n",
    "img=cv2.resize(img,(100,100))               # Resizing an Image\n",
    "input_img= np.expand_dims(img, axis=0)      # Expanding the dimension\n",
    "print(input_img.shape)\n",
    "f1=feature_map_2.predict(input_img)        # predicting out the Image \n",
    "# print(f1.shape)\n",
    "#                            # Let's see the shape\n",
    "\n",
    "fig= plt.figure(figsize=(50,50))\n",
    "for i in range(32):\n",
    "    ax=fig.add_subplot(8,4,i+1)\n",
    "    ax.imshow(f1[0,:,:,i])"
   ]
  },
  {
   "cell_type": "markdown",
   "metadata": {},
   "source": [
    "<h3>Visualize Filters"
   ]
  },
  {
   "cell_type": "code",
   "execution_count": null,
   "metadata": {},
   "outputs": [],
   "source": [
    "# Use your model to create the layers\n",
    "layers = model_g.layers\n",
    "layers[7]\n",
    "\n",
    "#Choose a layer to find a specific set of filters\n",
    "layer_3 = layers[3]\n",
    "filter_3, bias_3 = layer_3.get_weights()\n",
    "print(filter_3.shape ,bias_3.shape)\n",
    "\n",
    "# Normalize the weights\n",
    "f_min, f_max = filter_3.min(), filter_3.max()\n",
    "filter_3 = (filter_3 - f_min) / (f_max - f_min)\n",
    "\n",
    "fig = plt.figure(figsize = (50,50))\n",
    "for i in range(32):\n",
    "    ax = fig.add_subplot(8,4,i+1)\n",
    "    ax.imshow(filter_3[:,:,:,i])"
   ]
  },
  {
   "cell_type": "markdown",
   "metadata": {},
   "source": [
    "<h3> Use the new data set with dummy hot encoding"
   ]
  },
  {
   "cell_type": "code",
   "execution_count": null,
   "metadata": {},
   "outputs": [],
   "source": [
    "all_images_gray = []\n",
    "def get_pixels(values):\n",
    "    im = Image.open(f'Images//{values}')\n",
    "        # Adding this to get the gray image\n",
    "    gray = image.load_img(f'Images//{values}',target_size=(128,128),color_mode=\"grayscale\")\n",
    "    name = values[:-4]\n",
    "    im.thumbnail((128,128))\n",
    "    all_images.append(im)\n",
    "    all_images_gray.append(gray)\n",
    "    if name[-5] == 'r':\n",
    "        all_images_right.append(im)\n",
    "    else:\n",
    "        all_images_left.append(im)\n",
    "    return im\n",
    "\n",
    "df['pixel_data'] = df['filename'].apply(lambda x: get_pixels(x))"
   ]
  },
  {
   "cell_type": "code",
   "execution_count": null,
   "metadata": {},
   "outputs": [],
   "source": [
    "for x in range(len(all_images_gray)):\n",
    "    all_images_gray[x] = image.img_to_array(all_images_gray[x])\n",
    "    all_images_gray[x] = all_images_gray[x]/255\n",
    "image_array_gray = np.array(all_images_gray)"
   ]
  },
  {
   "cell_type": "code",
   "execution_count": null,
   "metadata": {},
   "outputs": [],
   "source": [
    "X_train, X_test, y_train, y_test = train_test_split(image_array_gray, dummy_y, test_size=0.25)"
   ]
  },
  {
   "cell_type": "markdown",
   "metadata": {},
   "source": [
    "## Model 4"
   ]
  },
  {
   "cell_type": "code",
   "execution_count": null,
   "metadata": {},
   "outputs": [],
   "source": [
    "model = Sequential()\n",
    "model.add(Conv2D(64, kernel_size=3, activation='relu', input_shape=(128,128,1)))\n",
    "model.add(MaxPooling2D(pool_size=(2, 2)))  \n",
    "model.add(Flatten())\n",
    "model.add(Dense(64, activation='relu'))\n",
    "model.add(Dense(64, activation='relu'))\n",
    "model.add(Dense(8, activation='sigmoid'))\n",
    "model.compile(optimizer='sgd', loss='categorical_crossentropy', metrics=['accuracy'])"
   ]
  },
  {
   "cell_type": "code",
   "execution_count": null,
   "metadata": {},
   "outputs": [],
   "source": [
    "model.fit(X_train,y_train, epochs=10, batch_size=20)"
   ]
  },
  {
   "cell_type": "code",
   "execution_count": null,
   "metadata": {},
   "outputs": [],
   "source": [
    "score = model.evaluate(X_test, y_test, verbose=0)\n",
    "print('Test loss:', score[0])\n",
    "print('Test accuracy:', score[1])"
   ]
  }
 ],
 "metadata": {
  "kernelspec": {
   "display_name": "Python 3",
   "language": "python",
   "name": "python3"
  },
  "language_info": {
   "codemirror_mode": {
    "name": "ipython",
    "version": 3
   },
   "file_extension": ".py",
   "mimetype": "text/x-python",
   "name": "python",
   "nbconvert_exporter": "python",
   "pygments_lexer": "ipython3",
   "version": "3.8.3"
  }
 },
 "nbformat": 4,
 "nbformat_minor": 4
}
